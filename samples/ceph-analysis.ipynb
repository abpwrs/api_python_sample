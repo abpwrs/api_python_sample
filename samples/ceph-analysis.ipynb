{
 "cells": [
  {
   "attachments": {},
   "cell_type": "markdown",
   "id": "048fc1cf",
   "metadata": {},
   "source": [
    "# Ceph analysis sample"
   ]
  },
  {
   "cell_type": "code",
   "execution_count": null,
   "id": "dd9b9bc8",
   "metadata": {},
   "outputs": [],
   "source": [
    "# Loading required packages\n",
    "import os\n",
    "import cv2\n",
    "import glob\n",
    "import base64\n",
    "import time\n",
    "import requests\n",
    "import json\n",
    "import urllib\n",
    "import numpy as np\n",
    "import matplotlib.pyplot as plt"
   ]
  },
  {
   "attachments": {},
   "cell_type": "markdown",
   "id": "51635a91",
   "metadata": {},
   "source": [
    "## Define call rules\n",
    "Please modify the following code blocks based on the information you obtained from us."
   ]
  },
  {
   "cell_type": "code",
   "execution_count": null,
   "id": "09cb58b4",
   "metadata": {},
   "outputs": [],
   "source": [
    "# service request URL, sent with the API documentation.\n",
    "base_url = \"<service request URL>\"\n",
    "\n",
    "# file service URL, sent with the API documentation.\n",
    "file_server_url = \"<service file server URL>\"\n",
    "\n",
    "# The authentication header must be passed in. Please keep the TOKEN confidential!!! If it is leaked, please contact us immediately to reset it. All tasks using this TOKEN will be charged to your account.\n",
    "zh_token = \"<your company's service Token, sent with the contact>\" # All API calls must be authenticated with the token.\n",
    "\n",
    "user_group = \"APIClient\" #User group, usually named APIClient. \n",
    "\n",
    "# Your company's user_id, sent with the API documentation.\n",
    "user_id = \"<your company's user_id>\"\n",
    "\n",
    "# If you have received creds.json, it will be read directly below.\n",
    "if os.path.exists('creds.json'):\n",
    "    creds = json.load(open('creds.json', 'r'))\n",
    "    base_url = creds['base_url']\n",
    "    file_server_url = creds['file_server_url']\n",
    "    zh_token = creds['zh_token']\n",
    "    user_id = creds['user_id']\n",
    "    print(\"loaded creds from creds.json\")"
   ]
  },
  {
   "attachments": {},
   "cell_type": "markdown",
   "id": "52970a4a",
   "metadata": {},
   "source": [
    "Define input image, **Please place the ceph image in the same directory as this Notebook and name it ceph.jpg**"
   ]
  },
  {
   "cell_type": "code",
   "execution_count": null,
   "id": "87f22c00",
   "metadata": {},
   "outputs": [],
   "source": [
    "image_file = 'ceph.jpg'"
   ]
  },
  {
   "cell_type": "code",
   "execution_count": null,
   "id": "b3893290",
   "metadata": {},
   "outputs": [],
   "source": [
    "json_call = {\n",
    "    \"spec_version\": \"1.0-snapshot\",\n",
    "    \"spec_name\": \"ceph-analysis\",\n",
    "    \"spec_group\": \"ceph\",\n",
    "    \"user_group\": user_group,\n",
    "    \"user_id\": user_id\n",
    "}   "
   ]
  },
  {
   "attachments": {},
   "cell_type": "markdown",
   "id": "59e2d865",
   "metadata": {},
   "source": [
    "### Define Callback URL\n",
    "\n",
    "Callback will send a POST request to the specified URL after the workflow is completed. The request content is a JSON object with 4 fields:\n",
    "\n",
    "1. workflow_id (str): the corresponding workflow_id\n",
    "2. metadata (dict): the metadata you passed when starting the workflow\n",
    "3. success (bool): whether the workflow succeeded (true for success)\n",
    "4. reason (str or null): If success is true, this item will be null. Otherwise, it will be a string representing the reason for failure.\n",
    "\n",
    "If you need a callback, please uncomment the following code block."
   ]
  },
  {
   "cell_type": "code",
   "execution_count": null,
   "id": "74afaa77",
   "metadata": {},
   "outputs": [],
   "source": [
    "# json_call['metadata'] = { # (optional) metadata can be added here, which will be attached to the callback information. Each item in the dictionary is limited to 128 characters\n",
    "#     \"case_id\": \"CH-123\",\n",
    "#     \"case_name\": \"ABCDE\"\n",
    "# }\n",
    "# json_call['notification'] =[ # (optional) callback URL can be added here\n",
    "#     {\"url\": \"https://www.baidu.com\"} # multiple callback URLs can be added here, each in the format {\"url\": \"xxx\"}\n",
    "# ]"
   ]
  },
  {
   "attachments": {},
   "cell_type": "markdown",
   "id": "35fb07df",
   "metadata": {},
   "source": [
    "## Define Input/Output Blocks\n",
    "\n",
    "The input block is defined by `input_data` in the JSON file. For two-dimensional images, we support the following **input** file formats:\n",
    "\n",
    "```\n",
    "\"jpg\"\n",
    "\"jpeg\"\n",
    "\"png\"\n",
    "```\n",
    "\n",
    "For two-dimensional images, inputs can be passed in two ways:\n",
    "\n",
    "1. Upload the file to our file service system first, then write the file pointer into the JSON call string and call the API.\n",
    "2. Pass the base64-encoded binary data directly in the JSON call string.\n",
    "\n",
    "We **strongly recommend** using the first method for the following reasons:\n",
    "\n",
    "1. Base64 encoding will increase the data stream size and increase network latency.\n",
    "2. To ensure API performance, We will reject overly large API requests. Therefore, the second method will fail to call for large files (HTTP CODE 413)."
   ]
  },
  {
   "cell_type": "code",
   "execution_count": null,
   "id": "cecdfeec",
   "metadata": {},
   "outputs": [],
   "source": [
    "data = open(image_file, 'rb').read()\n",
    "resp = requests.get(file_server_url + f\"/scratch/{user_group}/{user_id}/upload_url?\" +\n",
    "                    \"postfix=jpg\", # Must specify postfix, i.e., the file extension\n",
    "                    headers={\"X-ZH-TOKEN\": zh_token}) # Get the signed upload URL\n",
    "resp.raise_for_status()\n",
    "\n",
    "upload_url = resp.text[1:-1] # Returns a single string JSON \"string\", can also use json.loads(resp.text)\n",
    "\n",
    "resp = requests.put(upload_url, data) # No auth header is needed for uploading to the cloud storage service\n",
    "\n",
    "resp.raise_for_status()\n",
    "path = \"/\".join(urllib.parse.urlparse(upload_url).path.lstrip(\"/\").split(\"/\")[3:])\n",
    "urn = f\"urn:zhfile:o:s:{user_group}:{user_id}:{path}\"\n",
    "print(\"File pointer:\", urn)\n",
    "\n",
    "json_call[\"input_data\"] = { # Input data, the dictionary contents will vary depending on the task, please refer to the API documentation for specific information, here we take panoramic image as an example\n",
    "    \"image\": urn\n",
    "} # File pointer\n",
    "\n",
    "# Define the output configuration (the output may not necessarily be the same as the input)\n",
    "json_call['output_config'] = {}"
   ]
  },
  {
   "attachments": {},
   "cell_type": "markdown",
   "id": "46e7d34e",
   "metadata": {},
   "source": [
    "### Upload in base64 mode\n",
    "\n",
    "If you need to use, please uncomment the following code block."
   ]
  },
  {
   "cell_type": "code",
   "execution_count": null,
   "id": "428967af",
   "metadata": {},
   "outputs": [],
   "source": [
    "# json_call[\"input_data\"] = { # Input data, the dictionary contents will vary depending on the task, please refer to the API documentation for specific information, here we take tooth segmentation + tooth axis as an example\n",
    "#     \"image\": base64.b64encode(open('pano.jpg', 'rb').read()).decode()\n",
    "# }# File base64 encoding\n",
    "\n",
    "# # Define the output configuration (the output may not necessarily be the same as the input, for example, the input is an STL file, and the output is a base64-encoded DRC file)\n",
    "# json_call['output_config'] = {}"
   ]
  },
  {
   "attachments": {},
   "cell_type": "markdown",
   "id": "ce952f02",
   "metadata": {},
   "source": [
    "# Submit request\n",
    "\n",
    "Submit the request using the `/run` POST method. "
   ]
  },
  {
   "cell_type": "code",
   "execution_count": null,
   "id": "9786bc4a",
   "metadata": {},
   "outputs": [],
   "source": [
    "headers = {\n",
    "  \"Content-Type\": \"application/json\",\n",
    "  \"X-ZH-TOKEN\": zh_token\n",
    "}\n",
    "\n",
    "url = base_url + '/run'\n",
    "\n",
    "response = requests.request(\"POST\", url, headers=headers, data=json.dumps(json_call))\n",
    "print(response.text)\n",
    "response.raise_for_status()\n",
    "create_result = response.json()\n",
    "run_id = create_result['run_id']\n",
    "\n",
    "# Print the run_id\n",
    "print(run_id)"
   ]
  },
  {
   "attachments": {},
   "cell_type": "markdown",
   "id": "da79f8bd",
   "metadata": {},
   "source": [
    "# Wait for the request to complete\n",
    "\n",
    "Use the polling API to wait for the request to complete, the API URL is `/run/{run_id}`.\n",
    "\n",
    "**It is strongly recommended to use the callback method.** Refer to [Define Callback URL](#Define Callback URL), the callback method will send a callback message to the given URL at the end of the workflow, regardless of whether the workflow is successful or not, so you do not need to poll the result."
   ]
  },
  {
   "cell_type": "code",
   "execution_count": null,
   "id": "b86f7324",
   "metadata": {},
   "outputs": [],
   "source": [
    "# Step 2: Polling the status\n",
    "url = base_url + f\"/run/{run_id}\"\n",
    "\n",
    "start_time = time.time()\n",
    "while time.time()-start_time < 180: # Maximum wait time: 3 minutes\n",
    "    time.sleep(0.3) # Polling interval\n",
    "    response = requests.request(\"GET\", url, headers=headers)\n",
    "    result = response.json()\n",
    "    if result['completed'] or result['failed']:\n",
    "        break\n",
    "    \n",
    "if not result['completed']:\n",
    "    if result['failed']:\n",
    "        raise ValueError(\"API error, reason: \" + str(result['reason_public']))\n",
    "    raise TimeoutError(\"API timeout\")\n",
    "\n",
    "print(\"API execution time: {}s\".format(time.time()-start_time))"
   ]
  },
  {
   "attachments": {},
   "cell_type": "markdown",
   "id": "55ef9eee",
   "metadata": {},
   "source": [
    "# Get the request result\n",
    "\n",
    "Use `/data/{run_id}` to get all output data of this workflow, use `/data/{run_id}/{key}` to get a specific item of data."
   ]
  },
  {
   "cell_type": "code",
   "execution_count": null,
   "id": "6fc484f8",
   "metadata": {},
   "outputs": [],
   "source": [
    "url = base_url + f\"/data/{run_id}\"\n",
    "response = requests.request(\"GET\", url, headers=headers)\n",
    "result = response.json()"
   ]
  },
  {
   "attachments": {},
   "cell_type": "markdown",
   "id": "62850d02",
   "metadata": {},
   "source": [
    "# Sample API output display\n",
    "\n",
    "The output results are displayed below for the ceph image analysis API. The above code is common for all APIs with two-dimension images as inputs. The following section is specific to the processing and display of ceph analysis outputs."
   ]
  },
  {
   "cell_type": "code",
   "execution_count": null,
   "id": "e4de4e4d",
   "metadata": {},
   "outputs": [],
   "source": [
    "img = cv2.imread(image_file)\n",
    "for x, y in result['result']['kps'].values():\n",
    "    cv2.circle(img, (int(x), int(y)), 2, (0, 255, 0), 10)\n",
    "from matplotlib.pyplot import figure\n",
    "# You can customize the size of the displayed conditional images\n",
    "figure(figsize=(20, 14), dpi=80)\n",
    "plt.imshow(img)\n",
    "plt.show()"
   ]
  }
 ],
 "metadata": {
  "kernelspec": {
   "display_name": "Python 3 (ipykernel)",
   "language": "python",
   "name": "python3"
  },
  "language_info": {
   "codemirror_mode": {
    "name": "ipython",
    "version": 3
   },
   "file_extension": ".py",
   "mimetype": "text/x-python",
   "name": "python",
   "nbconvert_exporter": "python",
   "pygments_lexer": "ipython3",
   "version": "3.9.12"
  }
 },
 "nbformat": 4,
 "nbformat_minor": 5
}
